{
 "cells": [
  {
   "cell_type": "markdown",
   "metadata": {},
   "source": [
    "# To Learn\n",
    "If Elif Else\n",
    "\n",
    "For loop\n",
    "\n",
    "While Loop\n",
    "\n",
    "Break\n",
    "\n",
    "Continue\n",
    "\n",
    "Pass \n",
    "\n",
    "Operators: range, enumerate, zip, in, min, max, random, randint, input\n",
    "\n",
    "List comprehension"
   ]
  },
  {
   "cell_type": "markdown",
   "metadata": {},
   "source": [
    "# If Elif and Else statement\n",
    "\n",
    "if some_condition:\n",
    "    # execute some code\n",
    "    \n",
    "elif some_other_condition:\n",
    "    # execute some other code\n",
    "    \n",
    "else:\n",
    "    # execute some other code"
   ]
  },
  {
   "cell_type": "code",
   "execution_count": 1,
   "metadata": {},
   "outputs": [
    {
     "name": "stdout",
     "output_type": "stream",
     "text": [
      "Hi\n"
     ]
    }
   ],
   "source": [
    "if True:\n",
    "    print(f'Hi')"
   ]
  },
  {
   "cell_type": "code",
   "execution_count": 3,
   "metadata": {},
   "outputs": [
    {
     "name": "stdout",
     "output_type": "stream",
     "text": [
      "Feed me\n"
     ]
    }
   ],
   "source": [
    "hungry = True\n",
    "\n",
    "if hungry:\n",
    "    print(f'Feed me')\n",
    "    \n",
    "else:\n",
    "    print(f'Not hungry')    "
   ]
  },
  {
   "cell_type": "code",
   "execution_count": 4,
   "metadata": {},
   "outputs": [
    {
     "name": "stdout",
     "output_type": "stream",
     "text": [
      "Banks are cool\n"
     ]
    }
   ],
   "source": [
    "# multiple branches example\n",
    "\n",
    "loc = \"Bank\"\n",
    "\n",
    "if loc == \"Auto Shop\":\n",
    "    print(f'cars are cool')\n",
    "elif loc == 'Bank':\n",
    "    print(f'Banks are cool')\n",
    "else:\n",
    "    print(\"I do not know much\")"
   ]
  },
  {
   "cell_type": "markdown",
   "metadata": {},
   "source": [
    "# For Loop\n",
    "used for iteration- over every charac in a string, iterate over every item in a list, iterate over every key in a\n",
    "dictionary\n",
    "\n",
    "my_iterable = [1 ,2, 3]\n",
    "\n",
    "for i in my_iterable:\n",
    "\n",
    "    print(i)"
   ]
  },
  {
   "cell_type": "code",
   "execution_count": 4,
   "metadata": {},
   "outputs": [
    {
     "name": "stdout",
     "output_type": "stream",
     "text": [
      "1\n",
      "2\n",
      "3\n",
      "4\n",
      "5\n",
      "6\n",
      "7\n",
      "8\n",
      "159\n"
     ]
    }
   ],
   "source": [
    "# For loop over a list\n",
    "\n",
    "my_list = [1,2,3,4,5,6,7,8,159]\n",
    "\n",
    "for i in my_list:\n",
    "    print(i)"
   ]
  },
  {
   "cell_type": "code",
   "execution_count": 5,
   "metadata": {},
   "outputs": [
    {
     "name": "stdout",
     "output_type": "stream",
     "text": [
      "Odd number: 1\n",
      "Even number: 2\n",
      "Odd number: 3\n",
      "Even number: 4\n",
      "Odd number: 5\n",
      "Even number: 6\n",
      "Odd number: 7\n",
      "Even number: 8\n",
      "Odd number: 159\n"
     ]
    }
   ],
   "source": [
    "# print only the even numbers in the list\n",
    "for i in my_list:\n",
    "    if i%2 == 0 :\n",
    "        print(f'Even number: {i}')\n",
    "    else:\n",
    "        print(f'Odd number: {i}')"
   ]
  },
  {
   "cell_type": "code",
   "execution_count": 12,
   "metadata": {},
   "outputs": [
    {
     "name": "stdout",
     "output_type": "stream",
     "text": [
      "195\n"
     ]
    }
   ],
   "source": [
    "# sum of all the numbers in a list\n",
    "list_sum = 0\n",
    "\n",
    "for i in my_list:\n",
    "    list_sum += i\n",
    "print(list_sum)"
   ]
  },
  {
   "cell_type": "code",
   "execution_count": 13,
   "metadata": {},
   "outputs": [
    {
     "name": "stdout",
     "output_type": "stream",
     "text": [
      "H\n",
      "e\n",
      "l\n",
      "l\n",
      "o\n"
     ]
    }
   ],
   "source": [
    "# for loop for a string\n",
    "\n",
    "mystring = \"Hello\"\n",
    "\n",
    "for i in mystring:\n",
    "    print(i)"
   ]
  },
  {
   "cell_type": "code",
   "execution_count": 14,
   "metadata": {},
   "outputs": [
    {
     "name": "stdout",
     "output_type": "stream",
     "text": [
      "1\n",
      "2\n",
      "3\n"
     ]
    }
   ],
   "source": [
    "# for loop in a tuple\n",
    "\n",
    "t = (1,2,3)\n",
    "\n",
    "for i in t:\n",
    "    print(i)"
   ]
  },
  {
   "cell_type": "code",
   "execution_count": 25,
   "metadata": {},
   "outputs": [
    {
     "name": "stdout",
     "output_type": "stream",
     "text": [
      "(1, 2)\n",
      "(3, 4)\n",
      "(5, 6)\n"
     ]
    }
   ],
   "source": [
    "# Tuple unpacking:\n",
    "mylist = [(1,2) , (3,4) , (5,6)]\n",
    "\n",
    "for i in mylist:\n",
    "    print(i)\n",
    "    \n",
    "# Note this (mylist) sort of data structure is extremely common in python\n",
    "# a lot of built in python functions actually take advantage of this built in struture and\n",
    "# return bac tuples inside a list: reason is tuple unpacking"
   ]
  },
  {
   "cell_type": "code",
   "execution_count": 28,
   "metadata": {},
   "outputs": [
    {
     "name": "stdout",
     "output_type": "stream",
     "text": [
      "1\n",
      "2\n",
      "3\n",
      "4\n",
      "5\n",
      "6\n"
     ]
    }
   ],
   "source": [
    "# tuple unpacking- very powerful tool\n",
    "mylist = [(1,2) , (3,4) , (5,6)]\n",
    "for a,b in mylist:\n",
    "    print(a)\n",
    "    print(b)"
   ]
  },
  {
   "cell_type": "code",
   "execution_count": 35,
   "metadata": {},
   "outputs": [
    {
     "name": "stdout",
     "output_type": "stream",
     "text": [
      "1\n",
      "2\n",
      "30\n"
     ]
    }
   ],
   "source": [
    "# for loop in a dictionary\n",
    "\n",
    "d = {'k1':1, \"k2\":2, 'k3':30}\n",
    "\n",
    "# remember d.values(), d.keys(), d.items()\n",
    "for key, value in d.items():\n",
    "    print(value)"
   ]
  },
  {
   "cell_type": "markdown",
   "metadata": {},
   "source": [
    "# While Loops\n",
    "\n",
    "continue to execute a block of code while some condition remains True\n",
    "\n",
    "while some_boolean_condition:\n",
    "    \n",
    "    #do something\n",
    "    \n",
    "else:\n",
    "    \n",
    "    #do other thing"
   ]
  },
  {
   "cell_type": "code",
   "execution_count": 1,
   "metadata": {},
   "outputs": [
    {
     "name": "stdout",
     "output_type": "stream",
     "text": [
      "The current value of x is 0\n",
      "The current value of x is 1\n",
      "The current value of x is 2\n",
      "The current value of x is 3\n",
      "The current value of x is 4\n",
      "x is not less than 5\n"
     ]
    }
   ],
   "source": [
    "x = 0\n",
    "\n",
    "while x < 5 :\n",
    "    print(f\"The current value of x is {x}\")\n",
    "    x += 1\n",
    "    \n",
    "else:\n",
    "    print(f'x is not less than 5')"
   ]
  },
  {
   "cell_type": "markdown",
   "metadata": {
    "collapsed": true
   },
   "source": [
    "# Break, Continue, Pass\n",
    "\n",
    "break: breaks out of the closest enclosing loop\n",
    "\n",
    "continue: goes to the top of the closest enclosing loop\n",
    "\n",
    "pass: does nothing at all\n",
    "\n"
   ]
  },
  {
   "cell_type": "code",
   "execution_count": 2,
   "metadata": {
    "collapsed": true
   },
   "outputs": [],
   "source": [
    "# PASS\n",
    "x = [1,2,3]\n",
    "\n",
    "for i in x:   \n",
    "    # comment\n",
    "    pass    # lets say i dont know what code to write here for now (I will figure it out later)\n",
    "# in such cases, to avoid syntax errors, i can add \"pass\" keyword\n",
    "# if instead of using \"pass\", i put a comment ---> then i will get a syntax error"
   ]
  },
  {
   "cell_type": "code",
   "execution_count": 6,
   "metadata": {},
   "outputs": [
    {
     "name": "stdout",
     "output_type": "stream",
     "text": [
      "S\n",
      "a\n",
      "m\n",
      "m\n",
      "y\n"
     ]
    }
   ],
   "source": [
    "# Continue:\n",
    "\n",
    "mystring = \"Sammy\"\n",
    "\n",
    "for i in mystring:\n",
    "    print(i)"
   ]
  },
  {
   "cell_type": "code",
   "execution_count": 9,
   "metadata": {},
   "outputs": [
    {
     "name": "stdout",
     "output_type": "stream",
     "text": [
      "S\n",
      "m\n",
      "m\n",
      "y\n"
     ]
    }
   ],
   "source": [
    "# Now lets say for some reason, i dont want to print the letter \"a\"\n",
    "for i in mystring:\n",
    "    if i == \"a\":\n",
    "        continue\n",
    "    else:\n",
    "        print(i)\n",
    "\n",
    "        \n",
    "# Here, enclosing loop is \"for\" loop"
   ]
  },
  {
   "cell_type": "code",
   "execution_count": 12,
   "metadata": {},
   "outputs": [
    {
     "name": "stdout",
     "output_type": "stream",
     "text": [
      "S\n"
     ]
    }
   ],
   "source": [
    "# BREAK\n",
    "\n",
    "# lets say i want to print mystring only till I encounter the alphabet \"a\"\n",
    "for i in mystring:\n",
    "    if i == \"a\":\n",
    "        break\n",
    "    else:\n",
    "        print(i)\n",
    "        \n",
    "# in this case, instead of going to the top of the closest enclosing loop,it breaks out of the current enclosing loop\n",
    "# for loop in this case\n",
    "# so as soon as \"a\" is encountered, the loop breaks"
   ]
  },
  {
   "cell_type": "markdown",
   "metadata": {},
   "source": [
    "#  Some Impt. Operators"
   ]
  },
  {
   "cell_type": "code",
   "execution_count": 13,
   "metadata": {},
   "outputs": [
    {
     "name": "stdout",
     "output_type": "stream",
     "text": [
      "0\n",
      "2\n",
      "4\n",
      "6\n",
      "8\n"
     ]
    }
   ],
   "source": [
    "# Range\n",
    "\n",
    "for i in range(0,10,2):\n",
    "    print(i)"
   ]
  },
  {
   "cell_type": "code",
   "execution_count": 15,
   "metadata": {},
   "outputs": [
    {
     "name": "stdout",
     "output_type": "stream",
     "text": [
      "At index 0 letter is a\n",
      "At index 1 letter is b\n",
      "At index 2 letter is c\n",
      "At index 3 letter is d\n",
      "At index 4 letter is e\n"
     ]
    }
   ],
   "source": [
    "# Enumerate\n",
    "\n",
    "index_count = 0\n",
    "\n",
    "for i in 'abcde':\n",
    "    print('At index {} letter is {}'.format(index_count,i))\n",
    "    index_count += 1"
   ]
  },
  {
   "cell_type": "code",
   "execution_count": 16,
   "metadata": {},
   "outputs": [
    {
     "name": "stdout",
     "output_type": "stream",
     "text": [
      "(0, 'a')\n",
      "(1, 'b')\n",
      "(2, 'c')\n",
      "(3, 'd')\n",
      "(4, 'e')\n"
     ]
    }
   ],
   "source": [
    "# These types of loops are very common:\n",
    "# as many times you need to put a counter in the loop \n",
    "# to count how many iterations you have done\n",
    "\n",
    "for i in enumerate('abcde'):\n",
    "    print(i)"
   ]
  },
  {
   "cell_type": "code",
   "execution_count": 19,
   "metadata": {},
   "outputs": [
    {
     "name": "stdout",
     "output_type": "stream",
     "text": [
      "0\n",
      "a\n",
      "\n",
      "\n",
      "1\n",
      "b\n",
      "\n",
      "\n",
      "2\n",
      "c\n",
      "\n",
      "\n",
      "3\n",
      "d\n",
      "\n",
      "\n",
      "4\n",
      "e\n",
      "\n",
      "\n"
     ]
    }
   ],
   "source": [
    "# I get back- Tuples\n",
    "# We can use tuple unpacking\n",
    "\n",
    "for i,letter in enumerate('abcde'):\n",
    "    print(i)\n",
    "    print(letter)\n",
    "    print(\"\\n\")"
   ]
  },
  {
   "cell_type": "code",
   "execution_count": 20,
   "metadata": {},
   "outputs": [
    {
     "name": "stdout",
     "output_type": "stream",
     "text": [
      "(1, 'a')\n",
      "(2, 'b')\n",
      "(3, 'c')\n"
     ]
    }
   ],
   "source": [
    "# ZIP function\n",
    "\n",
    "# it zips together two lists\n",
    "\n",
    "mylist1 = [1,2,3]\n",
    "mylist2 = ['a','b','c']\n",
    "\n",
    "for i in zip(mylist1,mylist2):\n",
    "    print(i)"
   ]
  },
  {
   "cell_type": "code",
   "execution_count": 24,
   "metadata": {},
   "outputs": [
    {
     "data": {
      "text/plain": [
       "[(1, 'a'), (2, 'b'), (3, 'c')]"
      ]
     },
     "execution_count": 24,
     "metadata": {},
     "output_type": "execute_result"
    }
   ],
   "source": [
    "# Note: the zip function has returned a tuple\n",
    "\n",
    "# CASTING\n",
    "list(zip(mylist1,mylist2))"
   ]
  },
  {
   "cell_type": "code",
   "execution_count": 25,
   "metadata": {},
   "outputs": [
    {
     "name": "stdout",
     "output_type": "stream",
     "text": [
      "1\n",
      "a\n",
      "\n",
      "\n",
      "2\n",
      "b\n",
      "\n",
      "\n",
      "3\n",
      "c\n",
      "\n",
      "\n"
     ]
    }
   ],
   "source": [
    "# tuple unpacking\n",
    "for p,q in list(zip(mylist1,mylist2)):\n",
    "    print(p)\n",
    "    print(q)\n",
    "    print(\"\\n\")"
   ]
  },
  {
   "cell_type": "code",
   "execution_count": 26,
   "metadata": {},
   "outputs": [
    {
     "data": {
      "text/plain": [
       "False"
      ]
     },
     "execution_count": 26,
     "metadata": {},
     "output_type": "execute_result"
    }
   ],
   "source": [
    "# \"IN\" operator\n",
    "# list\n",
    "'x' in [1,2,3]"
   ]
  },
  {
   "cell_type": "code",
   "execution_count": 27,
   "metadata": {},
   "outputs": [
    {
     "data": {
      "text/plain": [
       "True"
      ]
     },
     "execution_count": 27,
     "metadata": {},
     "output_type": "execute_result"
    }
   ],
   "source": [
    "# list\n",
    "'x' in ['x','y','z']"
   ]
  },
  {
   "cell_type": "code",
   "execution_count": 28,
   "metadata": {},
   "outputs": [
    {
     "data": {
      "text/plain": [
       "True"
      ]
     },
     "execution_count": 28,
     "metadata": {},
     "output_type": "execute_result"
    }
   ],
   "source": [
    "# string\n",
    "'a' in \"a world\""
   ]
  },
  {
   "cell_type": "code",
   "execution_count": 29,
   "metadata": {},
   "outputs": [
    {
     "data": {
      "text/plain": [
       "True"
      ]
     },
     "execution_count": 29,
     "metadata": {},
     "output_type": "execute_result"
    }
   ],
   "source": [
    "# dictionary\n",
    "\n",
    "'mykey' in {'mykey':45}"
   ]
  },
  {
   "cell_type": "code",
   "execution_count": 30,
   "metadata": {},
   "outputs": [
    {
     "data": {
      "text/plain": [
       "True"
      ]
     },
     "execution_count": 30,
     "metadata": {},
     "output_type": "execute_result"
    }
   ],
   "source": [
    "# dictionary\n",
    "d = {'mykey':45}\n",
    "\n",
    "'mykey' in d.keys()"
   ]
  },
  {
   "cell_type": "code",
   "execution_count": 32,
   "metadata": {},
   "outputs": [
    {
     "name": "stdout",
     "output_type": "stream",
     "text": [
      "0.0001\n",
      "56565\n"
     ]
    }
   ],
   "source": [
    "# MIN function\n",
    "# MAX function\n",
    "mylist = [1,2,3,65,0.0001,5,56565]\n",
    "print(min(mylist))\n",
    "print(max(mylist))"
   ]
  },
  {
   "cell_type": "code",
   "execution_count": 33,
   "metadata": {},
   "outputs": [
    {
     "name": "stdout",
     "output_type": "stream",
     "text": [
      "[2, 3, 1, 7, 5, 6, 8, 4]\n"
     ]
    }
   ],
   "source": [
    "# Random\n",
    "\n",
    "from random import shuffle\n",
    "\n",
    "# shuffle: randomly shuffles a list\n",
    "mylist = [1,2,3,4,5,6,7,8]\n",
    "shuffle(mylist)  #  Note: Shuffle does not return any value\n",
    "# it is an inplace function\n",
    "print(mylist)"
   ]
  },
  {
   "cell_type": "code",
   "execution_count": 34,
   "metadata": {},
   "outputs": [
    {
     "name": "stdout",
     "output_type": "stream",
     "text": [
      "66\n"
     ]
    }
   ],
   "source": [
    "# randint\n",
    "\n",
    "# this allows us to quickly pick a random integer\n",
    "\n",
    "from random import randint\n",
    "num = randint(0,100) # note: randint funtion returns some value\n",
    "# so unlike shuffle function, we can assign randint function to a \n",
    "# variable\n",
    "print(num)\n"
   ]
  },
  {
   "cell_type": "code",
   "execution_count": 37,
   "metadata": {},
   "outputs": [
    {
     "name": "stdout",
     "output_type": "stream",
     "text": [
      "Enter a number here:45\n",
      "45\n"
     ]
    }
   ],
   "source": [
    "# Input from user\n",
    "result = input(\"Enter a number here:\")\n",
    "print(result)\n"
   ]
  },
  {
   "cell_type": "code",
   "execution_count": 38,
   "metadata": {},
   "outputs": [
    {
     "data": {
      "text/plain": [
       "str"
      ]
     },
     "execution_count": 38,
     "metadata": {},
     "output_type": "execute_result"
    }
   ],
   "source": [
    "type(result)"
   ]
  },
  {
   "cell_type": "code",
   "execution_count": 39,
   "metadata": {},
   "outputs": [
    {
     "data": {
      "text/plain": [
       "45.0"
      ]
     },
     "execution_count": 39,
     "metadata": {},
     "output_type": "execute_result"
    }
   ],
   "source": [
    "# Note: input returns a string\n",
    "\n",
    "# To get an integer or float, we use casting\n",
    "\n",
    "float(result)"
   ]
  },
  {
   "cell_type": "code",
   "execution_count": null,
   "metadata": {
    "collapsed": true
   },
   "outputs": [],
   "source": []
  }
 ],
 "metadata": {
  "kernelspec": {
   "display_name": "Python 3",
   "language": "python",
   "name": "python3"
  },
  "language_info": {
   "codemirror_mode": {
    "name": "ipython",
    "version": 3
   },
   "file_extension": ".py",
   "mimetype": "text/x-python",
   "name": "python",
   "nbconvert_exporter": "python",
   "pygments_lexer": "ipython3",
   "version": "3.6.2"
  }
 },
 "nbformat": 4,
 "nbformat_minor": 2
}
