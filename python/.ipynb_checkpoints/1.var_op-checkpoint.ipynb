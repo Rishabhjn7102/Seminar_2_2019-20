{
 "cells": [
  {
   "cell_type": "code",
   "execution_count": null,
   "metadata": {},
   "outputs": [],
   "source": [
    "5+2\n",
    "5-2\n",
    "5*2\n",
    "5**2    # power\n",
    "5/2\n",
    "5.0/2\n",
    "5.0//2  # integer division\n",
    "5%2     # remainder"
   ]
  },
  {
   "cell_type": "code",
   "execution_count": null,
   "metadata": {},
   "outputs": [],
   "source": [
    "# you can add spaces in between an expression -->\n",
    "# a+b ... a + b ... works the same\n",
    "\n",
    "# what if i wish to share this calculator with my friends\n",
    "# we need to write these lines on a file\n",
    "# lets run this file using \"python var_op.py\"\n",
    "# there is no output ... what's wrong ??\n",
    "# when writing on file, we need to tell python whether we wish to see the output or not "
   ]
  },
  {
   "cell_type": "code",
   "execution_count": null,
   "metadata": {},
   "outputs": [],
   "source": [
    "print(5+2)\n",
    "print(5-2)\n",
    "print(5*2)\n",
    "print(5**2)\n",
    "print(5/2)\n",
    "print(5.0/2)\n",
    "print(5.0//2)\n",
    "print(5%2)"
   ]
  },
  {
   "cell_type": "code",
   "execution_count": null,
   "metadata": {},
   "outputs": [],
   "source": [
    "# now what if i want to do these operations with 3 and 4\n",
    "# and then with 12453 and 738383......will you change the numbers on each line?\n",
    "# and that too, every time? ... tedious right?\n",
    "# then lets introduce variables to ease it out"
   ]
  },
  {
   "cell_type": "code",
   "execution_count": null,
   "metadata": {},
   "outputs": [],
   "source": [
    "a = 5\n",
    "b = 2\n",
    "\n",
    "print(a+b)\n",
    "print(a-b)\n",
    "print(a*b)\n",
    "print(a**b)\n",
    "print(a/b)\n",
    "print(a//b)\n",
    "print(a%b)"
   ]
  },
  {
   "cell_type": "code",
   "execution_count": null,
   "metadata": {},
   "outputs": [],
   "source": [
    "# now, just change the values at one place, it will change everywhere\n",
    "# the operations we learnt above are arithmatic operations\n",
    "# a combination of these operators follows bodmas"
   ]
  },
  {
   "cell_type": "code",
   "execution_count": null,
   "metadata": {},
   "outputs": [],
   "source": [
    "print((3+2)*(2-3))"
   ]
  },
  {
   "cell_type": "code",
   "execution_count": null,
   "metadata": {},
   "outputs": [],
   "source": [
    "# there are other operators called comparison operators"
   ]
  },
  {
   "cell_type": "code",
   "execution_count": null,
   "metadata": {},
   "outputs": [],
   "source": [
    "a=1\n",
    "b=2\n",
    "print(a==b)\n",
    "print(a!=b)\n",
    "print(a>=b)\n",
    "print(a<=b)\n",
    "print(a>b)\n",
    "print(a<b)"
   ]
  },
  {
   "cell_type": "code",
   "execution_count": null,
   "metadata": {},
   "outputs": [],
   "source": [
    "# what was the output to the above statements? True/False\n",
    "# interesting ... lets look into it more deeply\n",
    "# what do we usually do with True and False? ... Logic Gates !!!\n",
    "\n",
    "# logical operators ... a = 0 is false(0) ... anything other than that is true(1)"
   ]
  },
  {
   "cell_type": "code",
   "execution_count": null,
   "metadata": {},
   "outputs": [],
   "source": [
    "a=True\n",
    "b=False\n",
    "print(a and b)  \n",
    "print(a or b)   \n",
    "print(not a)    "
   ]
  },
  {
   "cell_type": "code",
   "execution_count": null,
   "metadata": {},
   "outputs": [],
   "source": [
    "# bitwise operator ... assuming you know what binary numbers are"
   ]
  },
  {
   "cell_type": "code",
   "execution_count": 2,
   "metadata": {},
   "outputs": [
    {
     "name": "stdout",
     "output_type": "stream",
     "text": [
      "0\n",
      "1\n",
      "1\n",
      "-2\n",
      "1\n",
      "1\n"
     ]
    }
   ],
   "source": [
    "a=1\n",
    "b=0\n",
    "print(a & b)    # find if number is even ... x and 1\n",
    "print(a | b)    # set any bit to 1\n",
    "print(a ^ b)    # complement\n",
    "print(~a)\n",
    "print(a << b)\n",
    "print(a >> b)"
   ]
  },
  {
   "cell_type": "code",
   "execution_count": null,
   "metadata": {},
   "outputs": [],
   "source": [
    "# what is the difference between OR and | ??\n",
    "# we will look into it later\n",
    "\n",
    "# and finally ... identity operator"
   ]
  },
  {
   "cell_type": "code",
   "execution_count": null,
   "metadata": {},
   "outputs": [],
   "source": [
    "a=1\n",
    "b=True\n",
    "print (a==b)\n",
    "print (a is b)\n",
    "a = b\n",
    "print (a is b)"
   ]
  },
  {
   "cell_type": "code",
   "execution_count": null,
   "metadata": {},
   "outputs": [],
   "source": [
    "# but the way these solutions are printed\n",
    "# doesnt seem very nice, right?\n",
    "# lets move on to our next module and find out some solution"
   ]
  }
 ],
 "metadata": {
  "kernelspec": {
   "display_name": "Python 3",
   "language": "python",
   "name": "python3"
  },
  "language_info": {
   "codemirror_mode": {
    "name": "ipython",
    "version": 3
   },
   "file_extension": ".py",
   "mimetype": "text/x-python",
   "name": "python",
   "nbconvert_exporter": "python",
   "pygments_lexer": "ipython3",
   "version": "3.8.0"
  }
 },
 "nbformat": 4,
 "nbformat_minor": 4
}
