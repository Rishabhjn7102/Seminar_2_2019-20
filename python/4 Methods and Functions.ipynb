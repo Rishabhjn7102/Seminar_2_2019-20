{
 "cells": [
  {
   "cell_type": "markdown",
   "metadata": {},
   "source": [
    "# TO LEARN"
   ]
  },
  {
   "cell_type": "raw",
   "metadata": {},
   "source": [
    "\n",
    "\n",
    "Functions in python\n",
    "\n",
    "*args   **kwargs\n",
    "\n",
    "Questions\n",
    "\n",
    "Lambda Expressions, Map, ilter \n",
    "\n",
    "Nested Statements and Scope\n",
    "\n",
    "\n",
    "\n"
   ]
  },
  {
   "cell_type": "markdown",
   "metadata": {},
   "source": [
    "Creating clean repeatale code is very impt\n",
    "\n",
    "Functions allow us to create blocks oof code that can be easily \n",
    "executed many times, without needing to constantly \n",
    "rewrite the entire block of code\n"
   ]
  },
  {
   "cell_type": "markdown",
   "metadata": {},
   "source": [
    "Syntax:\n",
    "\n",
    "def name_of_function():\n",
    "    # code"
   ]
  },
  {
   "cell_type": "markdown",
   "metadata": {},
   "source": [
    "Typically, we use the \"return\" keyword to send back the reuslt \n",
    "of the function, instead of just printing it out\n",
    "\n",
    "return allows us to assign the output of function to a new variable\n"
   ]
  },
  {
   "cell_type": "code",
   "execution_count": 4,
   "metadata": {},
   "outputs": [
    {
     "name": "stdout",
     "output_type": "stream",
     "text": [
      "My name is Sam\n"
     ]
    }
   ],
   "source": [
    "# Define function\n",
    "def name():\n",
    "    print(\"My name is Sam\")\n",
    "\n",
    "# Call function\n",
    "name()"
   ]
  },
  {
   "cell_type": "code",
   "execution_count": 2,
   "metadata": {},
   "outputs": [
    {
     "name": "stdout",
     "output_type": "stream",
     "text": [
      "3\n"
     ]
    }
   ],
   "source": [
    "# Define function\n",
    "def add(num1,num2):\n",
    "    return num1+num2\n",
    "\n",
    "# call function\n",
    "result = add(1,2)\n",
    "print(result)"
   ]
  },
  {
   "cell_type": "code",
   "execution_count": 7,
   "metadata": {},
   "outputs": [
    {
     "name": "stdout",
     "output_type": "stream",
     "text": [
      "hello Sam\n"
     ]
    }
   ],
   "source": [
    "# Default Argument:\n",
    "\n",
    "def hello(name = \"Sam\"):   # Sam is the default argument\n",
    "    print(\"hello \" + name)\n",
    "    \n",
    "hello()  # here, since you have not given any argument, \n",
    "# \"Sam\" is taken by default\n",
    "\n",
    "\n",
    "\n",
    "\n",
    "\n",
    "# Note: Default only appears when you do not give any argument\n",
    "# If you provide an argument, say John, then John will be considered \n",
    "# as the argument"
   ]
  },
  {
   "cell_type": "code",
   "execution_count": 8,
   "metadata": {
    "collapsed": true
   },
   "outputs": [],
   "source": [
    "# RETURN:\n",
    "\n",
    "def add(a,b):\n",
    "    return a+b\n",
    "\n",
    "result = add(1,2)  # Since function is returning some value, it can\n",
    "# be assigned to some variable"
   ]
  },
  {
   "cell_type": "code",
   "execution_count": null,
   "metadata": {
    "collapsed": true
   },
   "outputs": [],
   "source": []
  },
  {
   "cell_type": "code",
   "execution_count": null,
   "metadata": {
    "collapsed": true
   },
   "outputs": [],
   "source": []
  },
  {
   "cell_type": "code",
   "execution_count": null,
   "metadata": {
    "collapsed": true
   },
   "outputs": [],
   "source": []
  },
  {
   "cell_type": "code",
   "execution_count": 11,
   "metadata": {},
   "outputs": [
    {
     "data": {
      "text/plain": [
       "True"
      ]
     },
     "execution_count": 11,
     "metadata": {},
     "output_type": "execute_result"
    }
   ],
   "source": [
    "# Find if the word \"dog\" is in a string\n",
    "\n",
    "\n",
    "\n",
    "# define function\n",
    "def isDog(string):\n",
    "    return \"dog\" in string\n",
    "\n",
    "\n",
    "\n",
    "\n",
    "# call function\n",
    "isDog(\"dog ran away\")"
   ]
  },
  {
   "cell_type": "code",
   "execution_count": null,
   "metadata": {
    "collapsed": true
   },
   "outputs": [],
   "source": []
  },
  {
   "cell_type": "code",
   "execution_count": null,
   "metadata": {
    "collapsed": true
   },
   "outputs": [],
   "source": []
  },
  {
   "cell_type": "code",
   "execution_count": null,
   "metadata": {
    "collapsed": true
   },
   "outputs": [],
   "source": []
  },
  {
   "cell_type": "code",
   "execution_count": 16,
   "metadata": {},
   "outputs": [
    {
     "data": {
      "text/plain": [
       "'ellowyay'"
      ]
     },
     "execution_count": 16,
     "metadata": {},
     "output_type": "execute_result"
    }
   ],
   "source": [
    "# PIG LATIN\n",
    "\n",
    "# if word starts from a vowel, add \"ay\" to end\n",
    "# if word does not start with a vowel, put first letter at the end,\n",
    "# then add \"ay\"\n",
    "\n",
    "def pig_latin(word):\n",
    "    vowels = ['a','e','i','o','u']\n",
    "    for i in vowels:\n",
    "        if word[0] in vowels:\n",
    "            return word + \"ay\"\n",
    "        \n",
    "        else:\n",
    "            return word[1:] + word[0] + 'ay'\n",
    "\n",
    "pig_latin(\"yellow\")"
   ]
  },
  {
   "cell_type": "code",
   "execution_count": null,
   "metadata": {
    "collapsed": true
   },
   "outputs": [],
   "source": []
  },
  {
   "cell_type": "code",
   "execution_count": null,
   "metadata": {
    "collapsed": true
   },
   "outputs": [],
   "source": []
  },
  {
   "cell_type": "code",
   "execution_count": null,
   "metadata": {
    "collapsed": true
   },
   "outputs": [],
   "source": []
  },
  {
   "cell_type": "code",
   "execution_count": null,
   "metadata": {
    "collapsed": true
   },
   "outputs": [],
   "source": []
  },
  {
   "cell_type": "raw",
   "metadata": {},
   "source": [
    "*args and **kwargs : they stand for arguments and \n",
    "keyword arguments respectively\n",
    "\n",
    "*args allows us to take arbitary number of arguments\n",
    "\n"
   ]
  },
  {
   "cell_type": "code",
   "execution_count": 22,
   "metadata": {},
   "outputs": [
    {
     "name": "stdout",
     "output_type": "stream",
     "text": [
      "(10, 12, 121, 5, 151, 51, 51, 51, 2)\n",
      "\n",
      "\n"
     ]
    },
    {
     "data": {
      "text/plain": [
       "454"
      ]
     },
     "execution_count": 22,
     "metadata": {},
     "output_type": "execute_result"
    }
   ],
   "source": [
    "def my_funct(*args):  # what *args does is: it allows ags to be tuples \n",
    "    # of parameters\n",
    "        \n",
    "    print(args)  # this will print a tuple of arguments\n",
    "    print(\"\\n\")\n",
    "    return sum(args)\n",
    "\n",
    "\n",
    "my_funct(10,12,121,5,151,51,51,51,2)\n",
    "\n",
    "\n",
    "# Note: args can be any other keyword"
   ]
  },
  {
   "cell_type": "code",
   "execution_count": 23,
   "metadata": {
    "collapsed": true
   },
   "outputs": [],
   "source": [
    "# Similarly, python allows you to handle arbitary number of\n",
    "# keyworded arguments\n",
    "\n",
    "# so instead of using tuple of arguments, we use **kwargs\n",
    "# this creates a dictionary of key:values"
   ]
  },
  {
   "cell_type": "code",
   "execution_count": 31,
   "metadata": {},
   "outputs": [
    {
     "name": "stdout",
     "output_type": "stream",
     "text": [
      "{'fruit': 'apple', 'veggie': 'lettuce'}\n",
      "\n",
      "\n",
      "My fruit of choice is apple\n"
     ]
    }
   ],
   "source": [
    "def my_func(**kwargs):    ### kwargs returns a dictionary\n",
    "    print(kwargs)\n",
    "    print(\"\\n\")\n",
    "    if 'fruit' in kwargs:\n",
    "        print(\"My fruit of choice is {}\".format(kwargs['fruit']))\n",
    "    else:\n",
    "        print(\"I did not find any fruit\")\n",
    "        \n",
    "my_func(fruit='apple' , veggie = 'lettuce')"
   ]
  },
  {
   "cell_type": "code",
   "execution_count": null,
   "metadata": {
    "collapsed": true
   },
   "outputs": [],
   "source": []
  },
  {
   "cell_type": "code",
   "execution_count": null,
   "metadata": {
    "collapsed": true
   },
   "outputs": [],
   "source": []
  },
  {
   "cell_type": "code",
   "execution_count": null,
   "metadata": {
    "collapsed": true
   },
   "outputs": [],
   "source": []
  },
  {
   "cell_type": "code",
   "execution_count": 34,
   "metadata": {},
   "outputs": [
    {
     "name": "stdout",
     "output_type": "stream",
     "text": [
      "I would like 10 oranges\n"
     ]
    }
   ],
   "source": [
    "# *args and **kwargs \n",
    "\n",
    "def myfunc(*args,**kwargs):\n",
    "    print(\"I would like {} {}\".format(args[0], kwargs['fruit']))\n",
    "    \n",
    "myfunc(10,12,23, fruit = \"oranges\", pet = \"dog \" )"
   ]
  },
  {
   "cell_type": "code",
   "execution_count": null,
   "metadata": {
    "collapsed": true
   },
   "outputs": [],
   "source": []
  },
  {
   "cell_type": "code",
   "execution_count": null,
   "metadata": {
    "collapsed": true
   },
   "outputs": [],
   "source": []
  },
  {
   "cell_type": "code",
   "execution_count": null,
   "metadata": {
    "collapsed": true
   },
   "outputs": [],
   "source": []
  },
  {
   "cell_type": "code",
   "execution_count": null,
   "metadata": {
    "collapsed": true
   },
   "outputs": [],
   "source": []
  },
  {
   "cell_type": "code",
   "execution_count": 36,
   "metadata": {},
   "outputs": [
    {
     "data": {
      "text/plain": [
       "'hElLoWoRlD'"
      ]
     },
     "execution_count": 36,
     "metadata": {},
     "output_type": "execute_result"
    }
   ],
   "source": [
    "# define a function that takes in a string and returns a mathing string \n",
    "# where every even letter in uppercase and every odd letter is lower case\n",
    "# assume that incoming string has only letters\n",
    "\n",
    "def myfunc(s):\n",
    "    result_string = \"\"\n",
    "    index = 0;\n",
    "    for c in s:\n",
    "        if(index%2 == 0):\n",
    "            result_string += s[index].lower()\n",
    "        else:\n",
    "            result_string += s[index].upper()\n",
    "        index+=1\n",
    "    return result_string\n",
    "\n",
    "myfunc(\"helloworld\")\n",
    "    "
   ]
  },
  {
   "cell_type": "code",
   "execution_count": null,
   "metadata": {
    "collapsed": true
   },
   "outputs": [],
   "source": []
  },
  {
   "cell_type": "code",
   "execution_count": null,
   "metadata": {
    "collapsed": true
   },
   "outputs": [],
   "source": []
  },
  {
   "cell_type": "code",
   "execution_count": null,
   "metadata": {
    "collapsed": true
   },
   "outputs": [],
   "source": []
  },
  {
   "cell_type": "code",
   "execution_count": null,
   "metadata": {
    "collapsed": true
   },
   "outputs": [],
   "source": []
  },
  {
   "cell_type": "code",
   "execution_count": null,
   "metadata": {
    "collapsed": true
   },
   "outputs": [],
   "source": []
  },
  {
   "cell_type": "code",
   "execution_count": null,
   "metadata": {
    "collapsed": true
   },
   "outputs": [],
   "source": []
  }
 ],
 "metadata": {
  "kernelspec": {
   "display_name": "Python 3",
   "language": "python",
   "name": "python3"
  },
  "language_info": {
   "codemirror_mode": {
    "name": "ipython",
    "version": 3
   },
   "file_extension": ".py",
   "mimetype": "text/x-python",
   "name": "python",
   "nbconvert_exporter": "python",
   "pygments_lexer": "ipython3",
   "version": "3.6.2"
  }
 },
 "nbformat": 4,
 "nbformat_minor": 2
}
